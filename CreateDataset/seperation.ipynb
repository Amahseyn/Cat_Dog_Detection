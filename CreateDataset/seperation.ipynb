{
 "cells": [
  {
   "cell_type": "code",
   "execution_count": 64,
   "metadata": {},
   "outputs": [
    {
     "data": {
      "text/plain": [
       "Index(['filename', 'fold', 'target', 'category', 'esc10', 'src_file', 'take'], dtype='object')"
      ]
     },
     "execution_count": 64,
     "metadata": {},
     "output_type": "execute_result"
    }
   ],
   "source": [
    "import pandas as pd\n",
    "main_directory = \"/home/mio/Documents/code/Cat_Dog_Detection/ESC-50-master/audio\"\n",
    "csvpath = \"/home/mio/Documents/code/Cat_Dog_Detection/ESC-50-master/meta/esc50.csv\"\n",
    "data = pd.read_csv(csvpath)\n",
    "data.columns"
   ]
  },
  {
   "cell_type": "code",
   "execution_count": 65,
   "metadata": {},
   "outputs": [
    {
     "name": "stdout",
     "output_type": "stream",
     "text": [
      "50\n",
      "50\n"
     ]
    }
   ],
   "source": [
    "filename = data[\"filename\"]\n",
    "classes = data[\"category\"]\n",
    "classindex = data[\"target\"]\n",
    "print(len(classes.unique()))\n",
    "print(len(classindex.unique()))"
   ]
  },
  {
   "cell_type": "code",
   "execution_count": 66,
   "metadata": {},
   "outputs": [],
   "source": [
    "import os \n",
    "import numpy as np\n",
    "audio_directory = \"/home/mio/Documents/code/Cat_Dog_Detection/ESC-50-master/audio\"\n",
    "\n",
    "\n",
    "\n"
   ]
  },
  {
   "cell_type": "code",
   "execution_count": 67,
   "metadata": {},
   "outputs": [],
   "source": [
    "def create_direcroty(dirpath):\n",
    "    os.makedirs(dirpath,exist_ok=True)\n",
    "def create_classes(directory,classes):\n",
    "    create_direcroty(directory)\n",
    "    for classname in classes:\n",
    "        classpath = os.path.join(directory,classname)\n",
    "        create_direcroty(classpath)\n",
    "datadirectory = \"/home/mio/Documents/code/Cat_Dog_Detection/data\"\n",
    "create_classes(datadirectory,classes)"
   ]
  },
  {
   "cell_type": "code",
   "execution_count": 68,
   "metadata": {},
   "outputs": [],
   "source": [
    "from shutil import copy\n",
    "\n",
    "for file in data[\"filename\"]:\n",
    "    srcpath = os.path.join(main_directory,file)\n",
    "    classfile = data[data['filename'] == file]\n",
    "    classfile = classfile[\"category\"].values[0]\n",
    "    #print(classfile)\n",
    "    dstpath = os.path.join(datadirectory,classfile,file)\n",
    "    copy(src=srcpath,dst=dstpath)\n"
   ]
  }
 ],
 "metadata": {
  "kernelspec": {
   "display_name": "tfvoice",
   "language": "python",
   "name": "python3"
  },
  "language_info": {
   "codemirror_mode": {
    "name": "ipython",
    "version": 3
   },
   "file_extension": ".py",
   "mimetype": "text/x-python",
   "name": "python",
   "nbconvert_exporter": "python",
   "pygments_lexer": "ipython3",
   "version": "3.10.14"
  }
 },
 "nbformat": 4,
 "nbformat_minor": 2
}
