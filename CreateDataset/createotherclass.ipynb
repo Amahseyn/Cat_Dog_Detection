{
 "cells": [
  {
   "cell_type": "code",
   "execution_count": 56,
   "metadata": {},
   "outputs": [
    {
     "name": "stdout",
     "output_type": "stream",
     "text": [
      "['car_horn', 'mouse_click', 'frog', 'insects', 'crackling_fire', 'clock_alarm', 'coughing', 'cow', 'snoring', 'fireworks', 'pig', 'sheep', 'dog', 'door_wood_knock', 'wind', 'laughing', 'door_wood_creaks', 'sneezing', 'hen', 'sea_waves', 'toilet_flush', 'rain', 'crying_baby', 'thunderstorm', 'footsteps', 'can_opening', 'brushing_teeth', 'rooster', 'airplane', 'pouring_water', 'helicopter', 'keyboard_typing', 'water_drops', 'siren', 'engine', 'chainsaw', 'glass_breaking', 'hand_saw', 'vacuum_cleaner', 'crow', 'church_bells', 'drinking_sipping', 'chirping_birds', 'cat', 'train', 'clapping', 'breathing', 'crickets', 'washing_machine', 'clock_tick']\n"
     ]
    }
   ],
   "source": [
    "import os\n",
    "mylist= \"cat\"\n",
    "datadirectory = \"/home/mio/Documents/code/Cat_Dog_Detection/data\"\n",
    "classes = os.listdir(datadirectory)\n",
    "print(classes)"
   ]
  },
  {
   "cell_type": "code",
   "execution_count": 57,
   "metadata": {},
   "outputs": [],
   "source": [
    "newdirpath = \"/home/mio/Documents/code/Cat_Dog_Detection/mydata\"\n",
    "os.makedirs(newdirpath,exist_ok=True)\n"
   ]
  },
  {
   "cell_type": "code",
   "execution_count": 59,
   "metadata": {},
   "outputs": [
    {
     "name": "stdout",
     "output_type": "stream",
     "text": [
      "['car_horn', 'mouse_click', 'frog', 'insects', 'crackling_fire', 'clock_alarm', 'coughing', 'cow', 'snoring', 'fireworks', 'pig', 'sheep', 'dog', 'door_wood_knock', 'wind', 'laughing', 'door_wood_creaks', 'sneezing', 'hen', 'sea_waves', 'toilet_flush', 'rain', 'crying_baby', 'thunderstorm', 'footsteps', 'can_opening', 'brushing_teeth', 'rooster', 'airplane', 'pouring_water', 'helicopter', 'keyboard_typing', 'water_drops', 'siren', 'engine', 'chainsaw', 'glass_breaking', 'hand_saw', 'vacuum_cleaner', 'crow', 'church_bells', 'drinking_sipping', 'chirping_birds', 'train', 'clapping', 'breathing', 'crickets', 'washing_machine', 'clock_tick']\n",
      "49\n"
     ]
    }
   ],
   "source": [
    "from random import sample\n",
    "from shutil import copy\n",
    "print(classes)\n",
    "classes = [s for s in classes if s != 'cat']\n",
    "print(len(classes))\n",
    "os.makedirs(os.path.join(newdirpath,\"other\"))\n",
    "for classname in list(classes):\n",
    "\n",
    "    filenames = os.listdir(os.path.join(datadirectory,classname))\n",
    "    filename1 = sample(filenames,3)\n",
    "    for file in filename1:\n",
    "        copy(os.path.join(datadirectory,classname,file),os.path.join(newdirpath,\"other\",file))\n",
    "        \n"
   ]
  },
  {
   "cell_type": "code",
   "execution_count": 60,
   "metadata": {},
   "outputs": [],
   "source": [
    "os.makedirs(os.path.join(newdirpath,\"cat\"))\n",
    "\n",
    "filenames = os.listdir(os.path.join(datadirectory,\"cat\"))\n",
    "for file in filenames:\n",
    "    copy(os.path.join(datadirectory,\"cat\",file),os.path.join(newdirpath,\"cat\",file))\n",
    "    "
   ]
  }
 ],
 "metadata": {
  "kernelspec": {
   "display_name": "tfvoice",
   "language": "python",
   "name": "python3"
  },
  "language_info": {
   "codemirror_mode": {
    "name": "ipython",
    "version": 3
   },
   "file_extension": ".py",
   "mimetype": "text/x-python",
   "name": "python",
   "nbconvert_exporter": "python",
   "pygments_lexer": "ipython3",
   "version": "3.10.14"
  }
 },
 "nbformat": 4,
 "nbformat_minor": 2
}
